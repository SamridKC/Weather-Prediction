{
 "cells": [
  {
   "cell_type": "markdown",
   "metadata": {},
   "source": [
    "## Final Project\n",
    "## Weather Classification from Videos/Images using Convolution Neural Networks\n",
    "## Bhuwan Sapkota and Samrid KC"
   ]
  },
  {
   "cell_type": "markdown",
   "metadata": {},
   "source": [
    "### Importing the necessary libraries"
   ]
  },
  {
   "cell_type": "code",
   "execution_count": 1,
   "metadata": {
    "nbpresent": {
     "id": "6649d466-16f7-4fc5-a54b-23d0dbf2c1f7"
    }
   },
   "outputs": [
    {
     "name": "stderr",
     "output_type": "stream",
     "text": [
      "/Users/Bhuwan/anaconda3/lib/python3.6/site-packages/h5py/__init__.py:36: FutureWarning: Conversion of the second argument of issubdtype from `float` to `np.floating` is deprecated. In future, it will be treated as `np.float64 == np.dtype(float).type`.\n",
      "  from ._conv import register_converters as _register_converters\n",
      "Using TensorFlow backend.\n"
     ]
    }
   ],
   "source": [
    "import cv2                                # for capturing videos\n",
    "import glob\n",
    "import pydot\n",
    "import math                               # for mathematical operations\n",
    "import matplotlib.pyplot as plt           # for plotting the images\n",
    "%matplotlib inline\n",
    "import pandas as pd\n",
    "from keras.preprocessing import image     # for preprocessing the images\n",
    "import numpy as np                        # for mathematical operations\n",
    "from keras.utils import np_utils\n",
    "from skimage.transform import resize      # for resizing images"
   ]
  },
  {
   "cell_type": "markdown",
   "metadata": {},
   "source": [
    "### Reading the tsv files from behavioral_data and extracting the weather tags"
   ]
  },
  {
   "cell_type": "code",
   "execution_count": null,
   "metadata": {
    "nbpresent": {
     "id": "58051a8a-5324-483b-8680-7028b8877425"
    }
   },
   "outputs": [],
   "source": [
    "import csv \n",
    "labelArray = []\n",
    "\n",
    "videoLabel = None\n",
    "for videoFile in glob.glob('behavioral_data/*.tsv'):\n",
    "    with open(videoFile) as tsvin:\n",
    "        lis = [line.split() for line in tsvin]\n",
    "        videoLabel = lis[16][1]\n",
    "        labelArray.append([videoFile[videoFile.index('/')+1:-4],videoLabel])\n",
    "        "
   ]
  },
  {
   "cell_type": "markdown",
   "metadata": {},
   "source": [
    "### Label Array into Label Dictionary"
   ]
  },
  {
   "cell_type": "code",
   "execution_count": null,
   "metadata": {
    "nbpresent": {
     "id": "3b83c020-9486-484c-9dcc-88f69b6378f2"
    }
   },
   "outputs": [],
   "source": [
    "#labelArray = labelArray[1:]\n",
    "labelDict = dict(labelArray)"
   ]
  },
  {
   "cell_type": "code",
   "execution_count": null,
   "metadata": {
    "nbpresent": {
     "id": "232565f3-6011-440a-8bf1-22eb9c367dac"
    }
   },
   "outputs": [],
   "source": [
    "labelDict"
   ]
  },
  {
   "cell_type": "code",
   "execution_count": null,
   "metadata": {
    "nbpresent": {
     "id": "c7bf17d4-b0cc-46dc-b4c1-52c1b450c769"
    }
   },
   "outputs": [],
   "source": [
    "labelDict[\"video_0223\"]"
   ]
  },
  {
   "cell_type": "code",
   "execution_count": null,
   "metadata": {
    "nbpresent": {
     "id": "1ea3088f-39de-400a-9a14-d1952def8d60"
    }
   },
   "outputs": [],
   "source": [
    "len(labelDict)"
   ]
  },
  {
   "cell_type": "markdown",
   "metadata": {},
   "source": [
    "### Extracting frames from every video and making the tags ready for them in array"
   ]
  },
  {
   "cell_type": "code",
   "execution_count": null,
   "metadata": {
    "nbpresent": {
     "id": "37f6548f-54b5-499f-a88b-8b5c180c72f1"
    }
   },
   "outputs": [],
   "source": [
    "frameName = []\n",
    "frameLabel = []\n",
    "\n",
    "for videoFile in glob.glob('trial/*.mp4'):\n",
    "           \n",
    "    count = 0\n",
    "    cap = cv2.VideoCapture(videoFile)   # capturing the video from the given path\n",
    "    frameRate = cap.get(5) #frame rate\n",
    "    x=1\n",
    "    while(cap.isOpened()):\n",
    "        frameId = cap.get(1) #current frame number\n",
    "        ret, frame = cap.read()\n",
    "        if (ret != True):\n",
    "            break\n",
    "        if (frameId % math.floor(frameRate) == 0):\n",
    "            filename = videoFile[:-4] +\"_%d.jpg\" % count;\n",
    "            frameName.append(filename[filename.index('/')+1:])   \n",
    "            frameLabel.append(labelDict[videoFile[videoFile.index('/')+1:-4]])\n",
    "            count+=1\n",
    "            cv2.imwrite(filename, frame)         \n",
    "    cap.release()"
   ]
  },
  {
   "cell_type": "code",
   "execution_count": null,
   "metadata": {
    "nbpresent": {
     "id": "b8d4d5e4-5292-4fd9-81b2-995f3ba483d7"
    }
   },
   "outputs": [],
   "source": [
    "frameName"
   ]
  },
  {
   "cell_type": "code",
   "execution_count": null,
   "metadata": {
    "nbpresent": {
     "id": "81221f73-8feb-4f21-91c9-85f65695ddd2"
    }
   },
   "outputs": [],
   "source": [
    "len(frameLabel)"
   ]
  },
  {
   "cell_type": "markdown",
   "metadata": {},
   "source": [
    "### Tagging each frame of each video clip"
   ]
  },
  {
   "cell_type": "code",
   "execution_count": null,
   "metadata": {
    "nbpresent": {
     "id": "871f7b6b-27fb-4d87-b17a-13b3c3f5fccc"
    }
   },
   "outputs": [],
   "source": [
    "frameName = np.asarray(frameName)\n",
    "frameLabel = np.asarray(frameLabel)\n",
    "\n",
    "frameName = frameName.reshape((-1, 1))\n",
    "frameLabel = frameLabel.reshape((-1, 1))"
   ]
  },
  {
   "cell_type": "code",
   "execution_count": null,
   "metadata": {
    "nbpresent": {
     "id": "17b07610-6f16-4724-ba83-2b852d8fbd0d"
    }
   },
   "outputs": [],
   "source": [
    "df = pd.DataFrame((np.hstack((np.asarray(frameName), np.asarray(frameLabel)))), columns = ['imageID', 'Class'])"
   ]
  },
  {
   "cell_type": "code",
   "execution_count": null,
   "metadata": {
    "nbpresent": {
     "id": "1d7d830d-c3eb-45ab-b4db-204f58d5666d"
    }
   },
   "outputs": [],
   "source": [
    "df"
   ]
  },
  {
   "cell_type": "code",
   "execution_count": null,
   "metadata": {
    "nbpresent": {
     "id": "cfec361e-17ae-4da4-8b13-8c0b178765e0"
    }
   },
   "outputs": [],
   "source": [
    "df.to_csv('Label.csv', sep=',',index=False)  # writing to csv"
   ]
  },
  {
   "cell_type": "code",
   "execution_count": null,
   "metadata": {
    "nbpresent": {
     "id": "d1c6e724-48f5-4c4a-96d3-4f57c1d8767a"
    }
   },
   "outputs": [],
   "source": [
    "img = plt.imread('trial/video_0029_0.jpg')   # reading image using its name\n",
    "plt.imshow(img)"
   ]
  },
  {
   "cell_type": "markdown",
   "metadata": {},
   "source": [
    "### Reading all the frames and storing them in the array"
   ]
  },
  {
   "cell_type": "code",
   "execution_count": null,
   "metadata": {
    "nbpresent": {
     "id": "a5d3d488-1bf9-405d-9409-bdc2a2f54b1a"
    }
   },
   "outputs": [],
   "source": [
    "data = pd.read_csv('Label.csv', keep_default_na = False)\n",
    "\n",
    "X = []\n",
    "for frame in data.imageID:\n",
    "    img = plt.imread(\"trial/\" + frame)\n",
    "    X.append(img)\n",
    "X = np.array(X)"
   ]
  },
  {
   "cell_type": "code",
   "execution_count": null,
   "metadata": {
    "nbpresent": {
     "id": "0bfc0847-2e75-4d46-9b97-f6920cf21998"
    }
   },
   "outputs": [],
   "source": [
    "plt.imshow(X[0])"
   ]
  },
  {
   "cell_type": "markdown",
   "metadata": {},
   "source": [
    "### Reading and storing the labels"
   ]
  },
  {
   "cell_type": "code",
   "execution_count": null,
   "metadata": {
    "nbpresent": {
     "id": "d0ca44a4-1edc-49a4-a337-24d0725b5ea2"
    }
   },
   "outputs": [],
   "source": [
    "y = data.Class"
   ]
  },
  {
   "cell_type": "code",
   "execution_count": null,
   "metadata": {
    "nbpresent": {
     "id": "5b13a2f0-12a4-4fe1-b80a-2615840af7f4"
    }
   },
   "outputs": [],
   "source": [
    "y"
   ]
  },
  {
   "cell_type": "code",
   "execution_count": null,
   "metadata": {},
   "outputs": [],
   "source": [
    "np.unique(y)"
   ]
  },
  {
   "cell_type": "code",
   "execution_count": null,
   "metadata": {
    "nbpresent": {
     "id": "3e4ce2c5-2039-4eff-9e0e-2db6602038df"
    }
   },
   "outputs": [],
   "source": [
    "y[45]"
   ]
  },
  {
   "cell_type": "markdown",
   "metadata": {},
   "source": [
    "### Label encoding"
   ]
  },
  {
   "cell_type": "code",
   "execution_count": null,
   "metadata": {
    "nbpresent": {
     "id": "ee78e69f-5cbe-4eda-87de-df54bd723b54"
    }
   },
   "outputs": [],
   "source": [
    "from sklearn.preprocessing import LabelEncoder, OneHotEncoder\n",
    "labelEncoderY = LabelEncoder()\n",
    "y = labelEncoderY.fit_transform(y)"
   ]
  },
  {
   "cell_type": "code",
   "execution_count": null,
   "metadata": {
    "nbpresent": {
     "id": "b76c827c-f654-4d48-a62b-b72367aa1625"
    }
   },
   "outputs": [],
   "source": [
    "y"
   ]
  },
  {
   "cell_type": "code",
   "execution_count": null,
   "metadata": {
    "nbpresent": {
     "id": "b5bd8eac-13df-45b8-9c3d-043388f9a700"
    }
   },
   "outputs": [],
   "source": [
    "y = np.asarray(y)\n",
    "y = y.reshape((-1, 1))"
   ]
  },
  {
   "cell_type": "code",
   "execution_count": null,
   "metadata": {
    "nbpresent": {
     "id": "45d3c54b-0492-4da0-8e8a-6e00cf168a29"
    }
   },
   "outputs": [],
   "source": [
    "y"
   ]
  },
  {
   "cell_type": "markdown",
   "metadata": {},
   "source": [
    "### One hot encoding"
   ]
  },
  {
   "cell_type": "code",
   "execution_count": null,
   "metadata": {
    "nbpresent": {
     "id": "a3c2efda-163b-4d30-bf21-265a4d182fd3"
    }
   },
   "outputs": [],
   "source": [
    "oneHotEncoderY = OneHotEncoder(categorical_features=[0]) #feature index = 0\n",
    "y = oneHotEncoderY.fit_transform(y).toarray()"
   ]
  },
  {
   "cell_type": "code",
   "execution_count": null,
   "metadata": {
    "nbpresent": {
     "id": "424e9fdf-6acc-44ca-ae1c-b760c62aa93f"
    }
   },
   "outputs": [],
   "source": [
    "y"
   ]
  },
  {
   "cell_type": "markdown",
   "metadata": {},
   "source": [
    "### Resizing the images"
   ]
  },
  {
   "cell_type": "code",
   "execution_count": null,
   "metadata": {
    "nbpresent": {
     "id": "008221f7-e565-48bc-b344-4e4f99fb8a9a"
    }
   },
   "outputs": [],
   "source": [
    "image = []\n",
    "for i in range(0,X.shape[0]):\n",
    "    a = resize(X[i], preserve_range=True, output_shape=(128,228)).astype(int)      # reshaping to 128*128*3\n",
    "    image.append(a)\n",
    "X = np.array(image)"
   ]
  },
  {
   "cell_type": "code",
   "execution_count": null,
   "metadata": {
    "nbpresent": {
     "id": "168c5bac-4d19-4750-9431-f98f5c0858dc"
    }
   },
   "outputs": [],
   "source": [
    "plt.imshow(X[0])"
   ]
  },
  {
   "cell_type": "markdown",
   "metadata": {},
   "source": [
    "### Splitting the data into training and validation"
   ]
  },
  {
   "cell_type": "code",
   "execution_count": null,
   "metadata": {
    "nbpresent": {
     "id": "1a03e309-7e78-4779-9c3f-de698841a070"
    }
   },
   "outputs": [],
   "source": [
    "from sklearn.model_selection import train_test_split\n",
    "X_train, X_valid, y_train, y_valid = train_test_split(X, y, test_size=0.3, random_state=101101219)    # preparing the validation set"
   ]
  },
  {
   "cell_type": "code",
   "execution_count": null,
   "metadata": {
    "nbpresent": {
     "id": "fbe01b58-2ac8-49c0-87b4-e2fbb58bd8f9"
    }
   },
   "outputs": [],
   "source": [
    "X_train.shape"
   ]
  },
  {
   "cell_type": "code",
   "execution_count": null,
   "metadata": {},
   "outputs": [],
   "source": [
    "plt.imshow(X_train[0])"
   ]
  },
  {
   "cell_type": "code",
   "execution_count": null,
   "metadata": {
    "nbpresent": {
     "id": "9c70cf3f-ef12-4de6-a727-e67bfbb90a77"
    }
   },
   "outputs": [],
   "source": [
    "#X_train = X_train.reshape(X_train.shape[0],3,128,228)"
   ]
  },
  {
   "cell_type": "code",
   "execution_count": null,
   "metadata": {
    "nbpresent": {
     "id": "5d4172b6-db7c-426e-be56-edb412a0a42b"
    }
   },
   "outputs": [],
   "source": [
    "X_train.shape "
   ]
  },
  {
   "cell_type": "code",
   "execution_count": null,
   "metadata": {
    "nbpresent": {
     "id": "e24119f8-86ac-4f83-aa26-7102540975a5"
    }
   },
   "outputs": [],
   "source": [
    "#X_valid = X_valid.reshape(X_valid.shape[0],3,128,228)"
   ]
  },
  {
   "cell_type": "code",
   "execution_count": null,
   "metadata": {
    "nbpresent": {
     "id": "68da8eb1-1c0f-43ab-be8a-086a5abe9839"
    }
   },
   "outputs": [],
   "source": [
    "X_valid.shape"
   ]
  },
  {
   "cell_type": "code",
   "execution_count": null,
   "metadata": {
    "nbpresent": {
     "id": "482289bb-38a9-4cb2-9a9c-cc20960c3813"
    }
   },
   "outputs": [],
   "source": [
    "y_train.shape"
   ]
  },
  {
   "cell_type": "code",
   "execution_count": null,
   "metadata": {
    "nbpresent": {
     "id": "430e33e7-c0e5-40c4-bbf5-9aa262edf86e"
    }
   },
   "outputs": [],
   "source": [
    "y_valid.shape"
   ]
  },
  {
   "cell_type": "code",
   "execution_count": null,
   "metadata": {
    "nbpresent": {
     "id": "8e80c24b-8a0c-4b2a-9b4e-cd805587f7b1"
    }
   },
   "outputs": [],
   "source": [
    "num_of_classes = y_valid.shape[1]"
   ]
  },
  {
   "cell_type": "code",
   "execution_count": null,
   "metadata": {
    "nbpresent": {
     "id": "53bc0064-a065-4d88-a92e-e12bae75e7ca"
    }
   },
   "outputs": [],
   "source": [
    "num_of_classes"
   ]
  },
  {
   "cell_type": "markdown",
   "metadata": {},
   "source": [
    "### Zero centering the data"
   ]
  },
  {
   "cell_type": "code",
   "execution_count": null,
   "metadata": {},
   "outputs": [],
   "source": [
    "X_train = X_train/X_train.max()\n",
    "X_valid = X_valid/X_valid.max()"
   ]
  },
  {
   "cell_type": "code",
   "execution_count": null,
   "metadata": {},
   "outputs": [],
   "source": [
    "plt.imshow(X_train[0])"
   ]
  },
  {
   "cell_type": "markdown",
   "metadata": {
    "nbpresent": {
     "id": "985ec1a5-8c4b-427c-aeac-96cd6be74ae6"
    }
   },
   "source": [
    "# CNN Model"
   ]
  },
  {
   "cell_type": "code",
   "execution_count": null,
   "metadata": {
    "nbpresent": {
     "id": "0a18a475-323e-4a72-b1ff-8a8a3b315705"
    }
   },
   "outputs": [],
   "source": [
    "from keras.models import Sequential\n",
    "from keras.layers import Dense\n",
    "from keras.layers.convolutional import Conv2D,MaxPooling2D\n",
    "from keras.layers import Flatten\n",
    "\n",
    "\n",
    "# Let's say you're working with 128x128 pixel RGB images (that's 128x128 pixels with 3 color channels).\n",
    "# When you put such an image into a numpy array you can either store it with a shape of (128, 128, 3) \n",
    "# or with a shape of (3, 128, 128).\n",
    "# The dimension ordering specifies if the color channel comes first (as with theano / \"th\") or if it \n",
    "# comes last (as with tensorflow / \"tf\").\n",
    "from keras import backend as K\n",
    "K.set_image_dim_ordering('tf')\n",
    "\n",
    "\n",
    "def largerCNN():\n",
    "    model = Sequential()\n",
    "    \n",
    "    #First convolution layer\n",
    "    model.add(\n",
    "        Conv2D(filters=48,        #number of filters\n",
    "               kernel_size=(3,3),     #size of each filter\n",
    "               input_shape=(128,228,3),\n",
    "               activation='relu',\n",
    "               strides = (1,1),\n",
    "               name = \"ConvolutionLayer1\"\n",
    "              )\n",
    "    )\n",
    "    \n",
    "    #Pooling layer\n",
    "    model.add(\n",
    "        MaxPooling2D(pool_size=(2,2),\n",
    "        name = \"MaxPoolingLayer1\")\n",
    "    )\n",
    "    \n",
    "    #second convolution layer\n",
    "    model.add(\n",
    "        Conv2D(filters=96,        #number of filters\n",
    "               kernel_size=(3,3),     #size of each filter\n",
    "               activation='relu',\n",
    "               strides = (1,1),\n",
    "               name = \"ConvolutionLayer2\"\n",
    "              )\n",
    "    )\n",
    "    \n",
    "    #Pooling layer\n",
    "    model.add(\n",
    "        MaxPooling2D(pool_size=(2,2),\n",
    "        name = \"MaxPoolingLayer2\")\n",
    "    )\n",
    "    \n",
    "    #Flattening layer\n",
    "    model.add(\n",
    "        Flatten(name = \"FlatteningLayer\")      \n",
    "    )\n",
    "    \n",
    "    #Fully connected layer\n",
    "    model.add(\n",
    "        Dense(\n",
    "            units=100,\n",
    "            activation='relu',\n",
    "            name = \"FullyConnectedLayer\"\n",
    "        )\n",
    "    )\n",
    "    \n",
    "    #Output layer\n",
    "    model.add(\n",
    "        Dense(\n",
    "            units=num_of_classes,\n",
    "            activation='softmax',\n",
    "            name = \"OutputLayer\"\n",
    "        )\n",
    "    )\n",
    "    \n",
    "    #compile model\n",
    "    model.compile(\n",
    "        loss='categorical_crossentropy',\n",
    "        optimizer='adam',\n",
    "        metrics=['accuracy']\n",
    "    )\n",
    "    \n",
    "    #return the model\n",
    "    return model"
   ]
  },
  {
   "cell_type": "code",
   "execution_count": null,
   "metadata": {
    "nbpresent": {
     "id": "6f541c6b-0ce5-47a6-95aa-7e5f0c5ae682"
    }
   },
   "outputs": [],
   "source": [
    "# build the model\n",
    "model = largerCNN()\n",
    "# Print the model\n",
    "print(model.summary())"
   ]
  },
  {
   "cell_type": "code",
   "execution_count": null,
   "metadata": {
    "nbpresent": {
     "id": "6abb25ca-f027-4ebf-b12c-4c5a3336299e"
    }
   },
   "outputs": [],
   "source": [
    "#Visualize the model\n",
    "#Pre-req: conda install pydot graphviz\n",
    "#And/or:  sudo apt install graphviz libgraphviz-dev\n",
    "\n",
    "from keras.utils.vis_utils import plot_model\n",
    "#plot_model(model, to_file='model_plot.png', show_shapes=True, show_layer_names=True)\n",
    "plot_model(model, to_file='model_plot_CNN.png', show_shapes=True, show_layer_names=True)\n",
    "#Best way to display the image\n",
    "from IPython.display import Image,SVG\n",
    "Image(filename='model_plot_CNN.png') \n",
    "## SVG(keras.utils.vis_utils.model_to_dot(model).create(prog=’dot’, format=’svg’))"
   ]
  },
  {
   "cell_type": "code",
   "execution_count": null,
   "metadata": {},
   "outputs": [],
   "source": [
    "# current timestamp as the log filename \n",
    "import time\n",
    "t = time.localtime(time.time())\n",
    "timeStamp = str(t.tm_year) + '-' + str(t.tm_mon) + '-' + str(t.tm_mday) + '--' + str(t.tm_hour) + '-'+str(t.tm_min) + '-'+str(t.tm_sec)\n",
    "timeStamp"
   ]
  },
  {
   "cell_type": "code",
   "execution_count": null,
   "metadata": {},
   "outputs": [],
   "source": [
    "## Create a TensorBoard instance with the path to the logs directory\n",
    "from keras.callbacks import TensorBoard\n",
    "tBoard = TensorBoard(log_dir='logs/{}'.format(timeStamp))"
   ]
  },
  {
   "cell_type": "markdown",
   "metadata": {},
   "source": [
    "### Fit the model, and record history of training results"
   ]
  },
  {
   "cell_type": "code",
   "execution_count": null,
   "metadata": {
    "nbpresent": {
     "id": "f8839d2c-997e-4f99-b4af-53e3c24bf364"
    }
   },
   "outputs": [],
   "source": [
    "# define the params\n",
    "num_epochs = 10\n",
    "batch_size = 35\n",
    "\n",
    "history = model.fit(\n",
    "    X_train,\n",
    "    y_train,\n",
    "    validation_data=(X_valid,y_valid),\n",
    "    epochs=num_epochs,\n",
    "    batch_size=batch_size,\n",
    "    verbose=2,\n",
    "    callbacks=[tBoard]\n",
    ")"
   ]
  },
  {
   "cell_type": "code",
   "execution_count": null,
   "metadata": {},
   "outputs": [],
   "source": [
    "# Save entire model to a HDF5 file\n",
    "model.save('my_model.h5')"
   ]
  },
  {
   "cell_type": "code",
   "execution_count": 3,
   "metadata": {},
   "outputs": [
    {
     "name": "stdout",
     "output_type": "stream",
     "text": [
      "_________________________________________________________________\n",
      "Layer (type)                 Output Shape              Param #   \n",
      "=================================================================\n",
      "ConvolutionLayer1 (Conv2D)   (None, 126, 226, 48)      1344      \n",
      "_________________________________________________________________\n",
      "MaxPoolingLayer1 (MaxPooling (None, 63, 113, 48)       0         \n",
      "_________________________________________________________________\n",
      "ConvolutionLayer2 (Conv2D)   (None, 61, 111, 96)       41568     \n",
      "_________________________________________________________________\n",
      "MaxPoolingLayer2 (MaxPooling (None, 30, 55, 96)        0         \n",
      "_________________________________________________________________\n",
      "FlatteningLayer (Flatten)    (None, 158400)            0         \n",
      "_________________________________________________________________\n",
      "FullyConnectedLayer (Dense)  (None, 100)               15840100  \n",
      "_________________________________________________________________\n",
      "OutputLayer (Dense)          (None, 4)                 404       \n",
      "=================================================================\n",
      "Total params: 15,883,416\n",
      "Trainable params: 15,883,416\n",
      "Non-trainable params: 0\n",
      "_________________________________________________________________\n"
     ]
    }
   ],
   "source": [
    "import keras\n",
    "# Recreate the exact same model, including weights and optimizer.\n",
    "model = keras.models.load_model('my_model.h5')\n",
    "model.summary()"
   ]
  },
  {
   "cell_type": "code",
   "execution_count": 4,
   "metadata": {},
   "outputs": [
    {
     "ename": "NameError",
     "evalue": "name 'X_valid' is not defined",
     "output_type": "error",
     "traceback": [
      "\u001b[0;31m---------------------------------------------------------------------------\u001b[0m",
      "\u001b[0;31mNameError\u001b[0m                                 Traceback (most recent call last)",
      "\u001b[0;32m<ipython-input-4-e6c6646798d7>\u001b[0m in \u001b[0;36m<module>\u001b[0;34m()\u001b[0m\n\u001b[1;32m      1\u001b[0m \u001b[0;31m# Final evaluation of the model\u001b[0m\u001b[0;34m\u001b[0m\u001b[0;34m\u001b[0m\u001b[0m\n\u001b[0;32m----> 2\u001b[0;31m \u001b[0mscores\u001b[0m \u001b[0;34m=\u001b[0m \u001b[0mmodel\u001b[0m\u001b[0;34m.\u001b[0m\u001b[0mevaluate\u001b[0m\u001b[0;34m(\u001b[0m\u001b[0mX_valid\u001b[0m\u001b[0;34m,\u001b[0m\u001b[0my_valid\u001b[0m\u001b[0;34m,\u001b[0m\u001b[0mverbose\u001b[0m\u001b[0;34m=\u001b[0m\u001b[0;36m0\u001b[0m\u001b[0;34m)\u001b[0m\u001b[0;34m\u001b[0m\u001b[0m\n\u001b[0m\u001b[1;32m      3\u001b[0m \u001b[0mprint\u001b[0m\u001b[0;34m(\u001b[0m\u001b[0;34m'Baseline error: %.2f'\u001b[0m \u001b[0;34m%\u001b[0m \u001b[0;34m(\u001b[0m\u001b[0;36m1\u001b[0m\u001b[0;34m-\u001b[0m\u001b[0mscores\u001b[0m\u001b[0;34m[\u001b[0m\u001b[0;36m1\u001b[0m\u001b[0;34m]\u001b[0m\u001b[0;34m)\u001b[0m\u001b[0;34m)\u001b[0m\u001b[0;34m\u001b[0m\u001b[0m\n",
      "\u001b[0;31mNameError\u001b[0m: name 'X_valid' is not defined"
     ]
    }
   ],
   "source": [
    "# Final evaluation of the model\n",
    "scores = model.evaluate(X_valid,y_valid,verbose=0)\n",
    "print('Baseline error: %.2f' % (1-scores[1]))"
   ]
  },
  {
   "cell_type": "code",
   "execution_count": null,
   "metadata": {},
   "outputs": [],
   "source": [
    "print(\"Accuracy: %.2f\" % scores[1])"
   ]
  },
  {
   "cell_type": "code",
   "execution_count": null,
   "metadata": {},
   "outputs": [],
   "source": [
    "from MiscFunctions import MiscFunctions as mf\n",
    "# Print/plot the training history\n",
    "mf.plot_history(history)"
   ]
  },
  {
   "cell_type": "code",
   "execution_count": null,
   "metadata": {},
   "outputs": [],
   "source": [
    "yPred = model.predict_classes(X_valid)\n",
    "yPred_probabilities = model.predict(X_valid)"
   ]
  },
  {
   "cell_type": "code",
   "execution_count": null,
   "metadata": {},
   "outputs": [],
   "source": [
    "yPred"
   ]
  },
  {
   "cell_type": "code",
   "execution_count": null,
   "metadata": {},
   "outputs": [],
   "source": [
    "yPred_probabilities"
   ]
  },
  {
   "cell_type": "code",
   "execution_count": null,
   "metadata": {},
   "outputs": [],
   "source": [
    "y_valid"
   ]
  },
  {
   "cell_type": "code",
   "execution_count": null,
   "metadata": {},
   "outputs": [],
   "source": [
    "y_valid_original=np.argmax(y_valid,axis=1)"
   ]
  },
  {
   "cell_type": "code",
   "execution_count": null,
   "metadata": {},
   "outputs": [],
   "source": [
    "y_valid_original"
   ]
  },
  {
   "cell_type": "code",
   "execution_count": null,
   "metadata": {},
   "outputs": [],
   "source": [
    "from sklearn.metrics import classification_report,confusion_matrix\n",
    "print(\"Classification report \\n=======================\")\n",
    "print(classification_report(y_true=y_valid_original, y_pred=yPred))\n",
    "print(\"Confusion matrix \\n=======================\")\n",
    "print(confusion_matrix(y_true=y_valid_original, y_pred=yPred))"
   ]
  },
  {
   "cell_type": "code",
   "execution_count": null,
   "metadata": {},
   "outputs": [],
   "source": [
    "import itertools\n",
    "import matplotlib.pyplot as plt\n",
    "import numpy as np\n",
    "def plot_confusion_matrix(cm, classes,\n",
    "                              normalize=False,\n",
    "                              title='Confusion matrix',\n",
    "                              cmap=plt.cm.Blues):\n",
    "        \"\"\"\n",
    "        This function prints and plots the confusion matrix.\n",
    "        Normalization can be applied by setting `normalize=True`.\n",
    "        \"\"\"\n",
    "        if normalize:\n",
    "            cm = cm.astype('float') / cm.sum(axis=1)[:, np.newaxis]\n",
    "            print(\"Normalized confusion matrix\\n============================\")\n",
    "        else:\n",
    "            print('Confusion matrix, without normalization\\n============================')\n",
    "\n",
    "        print(cm)\n",
    "        print(\"\\n\")\n",
    "\n",
    "        plt.imshow(cm, interpolation='nearest', cmap=cmap)\n",
    "        plt.title(title)\n",
    "        plt.colorbar()\n",
    "        tick_marks = np.arange(len(classes))\n",
    "        plt.xticks(tick_marks, classes, rotation=45)\n",
    "        plt.yticks(tick_marks, classes)\n",
    "\n",
    "        fmt = '.2f' if normalize else 'd'\n",
    "        thresh = cm.max() / 2.\n",
    "        for i, j in itertools.product(range(cm.shape[0]), range(cm.shape[1])):\n",
    "            plt.text(j, i, format(cm[i, j], fmt),\n",
    "                     horizontalalignment=\"center\",\n",
    "                     color=\"white\" if cm[i, j] > thresh else \"black\")\n",
    "\n",
    "        plt.tight_layout()"
   ]
  },
  {
   "cell_type": "code",
   "execution_count": null,
   "metadata": {},
   "outputs": [],
   "source": [
    "# Compute confusion matrix\n",
    "cnf_matrix = confusion_matrix(y_true=y_valid_original, y_pred=yPred)\n",
    "np.set_printoptions(precision=2)\n",
    "\n",
    "# Plot non-normalized confusion matrix\n",
    "plt.figure()\n",
    "plot_confusion_matrix(cnf_matrix, classes=np.unique(y_train),\n",
    "                      title='Confusion matrix, without normalization')\n",
    "\n",
    "# Plot normalized confusion matrix\n",
    "plt.figure()\n",
    "plot_confusion_matrix(cnf_matrix, classes=np.unique(y_train), normalize=True,\n",
    "                      title='Normalized confusion matrix')\n",
    "\n",
    "plt.show()"
   ]
  },
  {
   "cell_type": "markdown",
   "metadata": {
    "nbpresent": {
     "id": "b3bfdf8d-fce3-4ba1-96ef-40935e9de868"
    }
   },
   "source": [
    "### Now time for prediction\n",
    "#### Please change the video name that needs a prediction"
   ]
  },
  {
   "cell_type": "code",
   "execution_count": null,
   "metadata": {
    "nbpresent": {
     "id": "50b1a528-90bd-4105-8a2c-3f15fc056289"
    }
   },
   "outputs": [],
   "source": [
    "videoFile = 'predict/video_0057.mp4'\n",
    "cap = cv2.VideoCapture(videoFile)   # capturing the video from the given path\n",
    "frameRate = cap.get(5) #frame rate\n",
    "count = 0\n",
    "while(cap.isOpened()):\n",
    "    frameId = cap.get(1) #current frame number\n",
    "    ret, frame = cap.read()\n",
    "    if (ret != True):\n",
    "        break\n",
    "    if (frameId % math.floor(frameRate) == 0):    # we capturing one picture every 15 frame\n",
    "        filename = videoFile[:-4] +\"_%d.jpg\" % count;\n",
    "        count+=1\n",
    "        cv2.imwrite(filename, frame)\n",
    "\n",
    "cap.release()\n",
    "        "
   ]
  },
  {
   "cell_type": "code",
   "execution_count": null,
   "metadata": {
    "nbpresent": {
     "id": "d454d68c-73a8-4d9b-8876-9c805140b18a"
    }
   },
   "outputs": [],
   "source": [
    "predictImage = []\n",
    "for frame in glob.glob('predict/*.jpg'):\n",
    "    temp = plt.imread(frame)\n",
    "    predictImage.append(temp)"
   ]
  },
  {
   "cell_type": "code",
   "execution_count": null,
   "metadata": {
    "nbpresent": {
     "id": "2fa76ab3-e0cc-4593-a2c4-bb4c72a06bea"
    }
   },
   "outputs": [],
   "source": [
    "predictImage = np.asarray(predictImage)"
   ]
  },
  {
   "cell_type": "code",
   "execution_count": null,
   "metadata": {
    "nbpresent": {
     "id": "9507b1f4-cafa-4e2e-bd09-54d7cbdb3539"
    }
   },
   "outputs": [],
   "source": [
    "predictImage.shape"
   ]
  },
  {
   "cell_type": "code",
   "execution_count": null,
   "metadata": {
    "nbpresent": {
     "id": "bc56d89d-bd66-46df-8812-47ade2566201"
    }
   },
   "outputs": [],
   "source": [
    "plt.imshow(predictImage[0])"
   ]
  },
  {
   "cell_type": "code",
   "execution_count": null,
   "metadata": {
    "nbpresent": {
     "id": "292c4b98-8c43-4a65-8827-ffd47507569b"
    }
   },
   "outputs": [],
   "source": [
    "predictedImage = []\n",
    "for i in range(0,predictImage.shape[0]):\n",
    "    a = resize(predictImage[i], preserve_range=True, output_shape=(128,228)).astype(int)\n",
    "    predictedImage.append(a)\n",
    "predictedImage = np.asarray(predictedImage)"
   ]
  },
  {
   "cell_type": "code",
   "execution_count": null,
   "metadata": {
    "nbpresent": {
     "id": "8cf95c5a-a983-4606-ba28-a03c45be9983"
    }
   },
   "outputs": [],
   "source": [
    "predictedImage.shape"
   ]
  },
  {
   "cell_type": "code",
   "execution_count": null,
   "metadata": {
    "nbpresent": {
     "id": "9af6ca7a-113e-4492-b862-0027c7ab3c92"
    }
   },
   "outputs": [],
   "source": [
    "plt.imshow(predictedImage[0])"
   ]
  },
  {
   "cell_type": "code",
   "execution_count": null,
   "metadata": {
    "nbpresent": {
     "id": "924efdab-5811-488a-b0fd-1bc4c89808c9"
    }
   },
   "outputs": [],
   "source": [
    "#predictedImage = predictedImage.reshape(predictedImage.shape[0],3,128,228)"
   ]
  },
  {
   "cell_type": "code",
   "execution_count": null,
   "metadata": {
    "nbpresent": {
     "id": "bb9ef114-c5ce-4e0b-b72a-31009ccca815"
    }
   },
   "outputs": [],
   "source": [
    "predictions = model.predict_classes(predictedImage)"
   ]
  },
  {
   "cell_type": "code",
   "execution_count": null,
   "metadata": {
    "nbpresent": {
     "id": "a874b8a1-b4aa-4b3e-8a88-8d00f0f881cc"
    }
   },
   "outputs": [],
   "source": [
    "predictions"
   ]
  },
  {
   "cell_type": "code",
   "execution_count": null,
   "metadata": {
    "nbpresent": {
     "id": "40b02ea6-3d87-4dc2-a0ed-e52b445528bd"
    }
   },
   "outputs": [],
   "source": [
    "predictions = labelEncoderY.inverse_transform(predictions)"
   ]
  },
  {
   "cell_type": "markdown",
   "metadata": {
    "nbpresent": {
     "id": "71ce4d54-ce94-4717-900c-d0af31206c85"
    }
   },
   "source": [
    "### Following snippet will predict the weather"
   ]
  },
  {
   "cell_type": "code",
   "execution_count": null,
   "metadata": {
    "nbpresent": {
     "id": "4ad2aa6b-91c4-4644-8ae1-4dc1cc948d6c"
    }
   },
   "outputs": [],
   "source": [
    "(values,counts) = np.unique(predictions, return_counts=True)\n",
    "ind=np.argmax(counts)\n",
    "print (values[ind])  # prints the most frequent element"
   ]
  }
 ],
 "metadata": {
  "kernelspec": {
   "display_name": "Python 3",
   "language": "python",
   "name": "python3"
  },
  "language_info": {
   "codemirror_mode": {
    "name": "ipython",
    "version": 3
   },
   "file_extension": ".py",
   "mimetype": "text/x-python",
   "name": "python",
   "nbconvert_exporter": "python",
   "pygments_lexer": "ipython3",
   "version": "3.6.5"
  }
 },
 "nbformat": 4,
 "nbformat_minor": 2
}
